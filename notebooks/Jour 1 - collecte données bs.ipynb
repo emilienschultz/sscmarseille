{
 "cells": [
  {
   "cell_type": "code",
   "execution_count": 2,
   "id": "56cad883-7841-45f7-a819-f55daab8fe2e",
   "metadata": {},
   "outputs": [],
   "source": [
    "#pip install atproto"
   ]
  },
  {
   "cell_type": "markdown",
   "id": "82133299-c2d0-477b-8b34-8d338e13b4e0",
   "metadata": {},
   "source": [
    "## Se connecter au client"
   ]
  },
  {
   "cell_type": "markdown",
   "id": "c0a069d2-bf8f-41b1-afa8-64937af9a363",
   "metadata": {},
   "source": [
    "Doc : https://github.com/MarshalX/atproto"
   ]
  },
  {
   "cell_type": "markdown",
   "id": "7955dc04-dbbe-455d-a093-fbe162ce6d10",
   "metadata": {},
   "source": [
    "Charger mes identifiants"
   ]
  },
  {
   "cell_type": "code",
   "execution_count": 2,
   "id": "ff040cda-0e10-4e26-808d-5aa1960b0991",
   "metadata": {},
   "outputs": [],
   "source": [
    "import yaml\n",
    "\n",
    "with open(\"./../../creds.yaml\", \"r\") as f: \n",
    "    creds = yaml.load(f, Loader=yaml.FullLoader)"
   ]
  },
  {
   "cell_type": "code",
   "execution_count": 3,
   "id": "11a7ab92-7377-4594-93bb-4091d3f396c5",
   "metadata": {},
   "outputs": [
    {
     "data": {
      "text/plain": [
       "ProfileViewDetailed(did='did:plc:svofadxzzkfjjcjh3xzhy73v', handle='activetigger.bsky.social', associated=ProfileAssociated(chat=None, feedgens=0, labeler=False, lists=0, starter_packs=0, py_type='app.bsky.actor.defs#profileAssociated'), avatar='https://cdn.bsky.app/img/avatar/plain/did:plc:svofadxzzkfjjcjh3xzhy73v/bafkreieocqwf3shlt5uzpm6rf26z36utigo5ktwlqqppkvhkotu3yqmkxe@jpeg', banner=None, created_at='2025-03-09T16:02:10.241Z', description=None, display_name='', followers_count=1, follows_count=1, indexed_at='2025-03-09T16:02:10.241Z', joined_via_starter_pack=None, labels=[], pinned_post=None, posts_count=3, viewer=ViewerState(blocked_by=False, blocking=None, blocking_by_list=None, followed_by=None, following=None, known_followers=None, muted=False, muted_by_list=None, py_type='app.bsky.actor.defs#viewerState'), py_type='app.bsky.actor.defs#profileViewDetailed')"
      ]
     },
     "execution_count": 3,
     "metadata": {},
     "output_type": "execute_result"
    }
   ],
   "source": [
    "from atproto import Client\n",
    "\n",
    "client = Client()\n",
    "client.login(creds[\"username\"], creds[\"password\"])"
   ]
  },
  {
   "cell_type": "code",
   "execution_count": 15,
   "id": "40234a9b-3647-45d1-b270-c066b6eb8537",
   "metadata": {},
   "outputs": [
    {
     "data": {
      "text/plain": [
       "CreateRecordResponse(uri='at://did:plc:svofadxzzkfjjcjh3xzhy73v/app.bsky.feed.post/3ll4t7irbkr26', cid='bafyreicqoezinqguw4vt3plglu2th7c7ldk6fgi4f7m62qilhwprdq2puy')"
      ]
     },
     "execution_count": 15,
     "metadata": {},
     "output_type": "execute_result"
    }
   ],
   "source": [
    "client.send_post(\"C'est le cours de CSS à Marseille\")"
   ]
  },
  {
   "cell_type": "markdown",
   "id": "25c3167e-5db5-4518-8d60-b8863836849d",
   "metadata": {},
   "source": [
    "## Transformer une URL en URI (passer du web à Bluesky)\n",
    "\n",
    "https://bsky.app/profile/benecologie.bsky.social/post/3ll4mgtcs7c2n\n",
    "\n",
    "at://{did}/app.bsky.feed.post/{post_id}"
   ]
  },
  {
   "cell_type": "code",
   "execution_count": 17,
   "id": "590bdc77-ec94-4513-957a-1f3d7a15d4a2",
   "metadata": {},
   "outputs": [
    {
     "data": {
      "text/plain": [
       "'did:plc:njq5tj6ear5urnuoicl2kukt'"
      ]
     },
     "execution_count": 17,
     "metadata": {},
     "output_type": "execute_result"
    }
   ],
   "source": [
    "response = client.resolve_handle(\"benecologie.bsky.social\")\n",
    "response.did"
   ]
  },
  {
   "cell_type": "code",
   "execution_count": 19,
   "id": "8a306b77-ebba-4ae2-9da9-aa3cad07f71e",
   "metadata": {},
   "outputs": [],
   "source": [
    "key = \"3ll4mgtcs7c2n\"\n",
    "did = \"did:plc:njq5tj6ear5urnuoicl2kukt\"\n",
    "uri = f\"at://{did}/app.bsky.feed.post/{key}\""
   ]
  },
  {
   "cell_type": "code",
   "execution_count": 20,
   "id": "2bac5ba7-6ab7-4779-91d9-17ba2418e71e",
   "metadata": {},
   "outputs": [
    {
     "data": {
      "text/plain": [
       "'at://did:plc:njq5tj6ear5urnuoicl2kukt/app.bsky.feed.post/3ll4mgtcs7c2n'"
      ]
     },
     "execution_count": 20,
     "metadata": {},
     "output_type": "execute_result"
    }
   ],
   "source": [
    "uri"
   ]
  },
  {
   "cell_type": "code",
   "execution_count": 32,
   "id": "0bcb4801-c38a-4770-a0ce-86a3227db4a4",
   "metadata": {},
   "outputs": [],
   "source": [
    "reponse = client.app.bsky.feed.get_posts({\"uris\":[uri]})"
   ]
  },
  {
   "cell_type": "code",
   "execution_count": 33,
   "id": "6465b806-e1d0-449d-8091-acecac17d349",
   "metadata": {},
   "outputs": [
    {
     "data": {
      "text/plain": [
       "atproto_client.models.app.bsky.feed.get_posts.Response"
      ]
     },
     "execution_count": 33,
     "metadata": {},
     "output_type": "execute_result"
    }
   ],
   "source": [
    "type(reponse)"
   ]
  },
  {
   "cell_type": "code",
   "execution_count": 29,
   "id": "dbfeabce-b961-458b-a076-fa2d92109a58",
   "metadata": {},
   "outputs": [],
   "source": [
    "with open(\"post.json\",\"w\") as f:\n",
    "    f.write(reponse.model_dump_json())"
   ]
  },
  {
   "cell_type": "code",
   "execution_count": 38,
   "id": "33bc86f7-a0c2-45aa-a44e-97d150ac95ba",
   "metadata": {},
   "outputs": [],
   "source": [
    "post = reponse.posts[0]"
   ]
  },
  {
   "cell_type": "code",
   "execution_count": 40,
   "id": "e38c7a11-5e07-4681-a486-e562327350d6",
   "metadata": {},
   "outputs": [
    {
     "data": {
      "text/plain": [
       "atproto_client.models.app.bsky.feed.defs.PostView"
      ]
     },
     "execution_count": 40,
     "metadata": {},
     "output_type": "execute_result"
    }
   ],
   "source": [
    "type(post)"
   ]
  },
  {
   "cell_type": "code",
   "execution_count": 6,
   "id": "1bb0e491-cdca-4d38-8a41-9cc38df26f24",
   "metadata": {},
   "outputs": [],
   "source": [
    "def extract_info(post):\n",
    "    \"\"\"\n",
    "    Function to extract information from a bluesky post object\n",
    "    \"\"\"\n",
    "    return {\n",
    "            \"created_at\":post.record.created_at,\n",
    "            \"text\": post.record.text,\n",
    "           \"handle\": post.author.handle,\n",
    "           \"displayname\": post.author.display_name,\n",
    "           \"like\":post.like_count,\n",
    "           \"repost\":post.repost_count,\n",
    "           \"reply\":post.reply_count}"
   ]
  },
  {
   "cell_type": "code",
   "execution_count": 54,
   "id": "2eeb7edf-d0a0-4340-a19b-945fa285b9c5",
   "metadata": {},
   "outputs": [
    {
     "data": {
      "text/plain": [
       "{'text': \"Il me semble que le mythe des hormones féminines dangereuses dans le soja transformé est un mensonge favorisé par l'industrie de le viande non ? \\n\\nQuelqu'un a plus d'infos ? (Merci 💚)\",\n",
       " 'handle': 'benecologie.bsky.social',\n",
       " 'displayname': 'Une femme-soja',\n",
       " 'like': 73,\n",
       " 'repost': 11,\n",
       " 'reply': 22}"
      ]
     },
     "execution_count": 54,
     "metadata": {},
     "output_type": "execute_result"
    }
   ],
   "source": [
    "extract_info(post)"
   ]
  },
  {
   "cell_type": "markdown",
   "id": "32de17b1-5b61-4f20-9392-35d2d9733cb1",
   "metadata": {},
   "source": [
    "## Chercher plus de posts !"
   ]
  },
  {
   "cell_type": "code",
   "execution_count": 57,
   "id": "39b0a906-7816-4061-8218-779cecc0fcc2",
   "metadata": {},
   "outputs": [],
   "source": [
    "response = client.app.bsky.feed.search_posts({\"q\":\"llm \", \"limit\":100})"
   ]
  },
  {
   "cell_type": "code",
   "execution_count": 8,
   "id": "a7df901e-9f56-445c-8cd5-903ed525f358",
   "metadata": {},
   "outputs": [],
   "source": [
    "import pandas as pd"
   ]
  },
  {
   "cell_type": "code",
   "execution_count": 66,
   "id": "a2538e06-81fb-4064-a50c-03d221ef0721",
   "metadata": {},
   "outputs": [],
   "source": [
    "#pd.DataFrame([extract_info(post) for post in response.posts])"
   ]
  },
  {
   "cell_type": "code",
   "execution_count": 4,
   "id": "81f79250-b38b-4abd-a99a-d894f27ef2f6",
   "metadata": {},
   "outputs": [
    {
     "name": "stdout",
     "output_type": "stream",
     "text": [
      "99\n",
      "199\n",
      "299\n",
      "399\n",
      "499\n",
      "599\n",
      "699\n",
      "799\n",
      "890\n",
      "990\n",
      "1090\n",
      "1190\n",
      "1289\n",
      "1389\n",
      "1487\n",
      "1586\n",
      "1686\n",
      "1786\n",
      "1885\n",
      "1984\n",
      "2084\n",
      "2184\n",
      "2284\n",
      "2384\n"
     ]
    }
   ],
   "source": [
    "all_posts = []\n",
    "cursor = None\n",
    "n_elements = 10000\n",
    "while True: \n",
    "    response = client.app.bsky.feed.search_posts({\"q\":\"llm\", \n",
    "                                                  \"limit\":100, \n",
    "                                                  \"sort\": 'latest',\n",
    "                                                  \"cursor\":cursor, \n",
    "                                                 \"lang\":\"fr\"})\n",
    "    \n",
    "    all_posts.extend(response[\"posts\"])\n",
    "    cursor = response.cursor\n",
    "    if not cursor:\n",
    "        break  # No more posts to fetch\n",
    "    if len(all_posts) >= n_elements:\n",
    "        break\n",
    "    print(len(all_posts))"
   ]
  },
  {
   "cell_type": "code",
   "execution_count": 5,
   "id": "004b7639-9b3c-4a61-a9d2-bf296d0aa578",
   "metadata": {},
   "outputs": [
    {
     "data": {
      "text/plain": [
       "2399"
      ]
     },
     "execution_count": 5,
     "metadata": {},
     "output_type": "execute_result"
    }
   ],
   "source": [
    "len(all_posts)"
   ]
  },
  {
   "cell_type": "code",
   "execution_count": 9,
   "id": "03badc50-1404-4d21-8733-efbb4cd95a23",
   "metadata": {},
   "outputs": [],
   "source": [
    "df = pd.DataFrame([extract_info(post) for post in all_posts])"
   ]
  },
  {
   "cell_type": "code",
   "execution_count": 11,
   "id": "be996fb0-3075-47e7-95e0-71130e5e48c5",
   "metadata": {},
   "outputs": [],
   "source": [
    "df.to_csv(\"../../data_llm_bs.csv\")"
   ]
  },
  {
   "cell_type": "code",
   "execution_count": 80,
   "id": "df286f2f-fa9e-4b6f-85cf-907b0577108c",
   "metadata": {},
   "outputs": [
    {
     "data": {
      "text/plain": [
       "'Apple just paused its AI LLM Siri upgrade indefinitely. \\n\\nThe writing is on the wall.'"
      ]
     },
     "execution_count": 80,
     "metadata": {},
     "output_type": "execute_result"
    }
   ],
   "source": [
    "df.sort_values(\"like\", ascending=False).iloc[1][\"text\"]"
   ]
  }
 ],
 "metadata": {
  "kernelspec": {
   "display_name": "Python 3 (ipykernel)",
   "language": "python",
   "name": "python3"
  },
  "language_info": {
   "codemirror_mode": {
    "name": "ipython",
    "version": 3
   },
   "file_extension": ".py",
   "mimetype": "text/x-python",
   "name": "python",
   "nbconvert_exporter": "python",
   "pygments_lexer": "ipython3",
   "version": "3.11.7"
  }
 },
 "nbformat": 4,
 "nbformat_minor": 5
}
