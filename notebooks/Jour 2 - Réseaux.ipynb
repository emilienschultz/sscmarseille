{
 "cells": [
  {
   "cell_type": "code",
   "execution_count": 2,
   "id": "2748a559-c994-41c8-be80-844c3f9a9f64",
   "metadata": {},
   "outputs": [],
   "source": [
    "#pip install networkx ipysigma"
   ]
  },
  {
   "cell_type": "code",
   "execution_count": 7,
   "id": "38d5dbd7-07f6-4e86-858c-236c62e3cb83",
   "metadata": {},
   "outputs": [],
   "source": [
    "import networkx as nx\n",
    "from ipysigma import Sigma"
   ]
  },
  {
   "cell_type": "markdown",
   "id": "52e1440a-d497-4e52-89d9-e2f58d81d586",
   "metadata": {},
   "source": [
    "On crée un objet réseau"
   ]
  },
  {
   "cell_type": "code",
   "execution_count": 6,
   "id": "5b1d7a1d-fcf3-4735-9323-a10f883fb984",
   "metadata": {},
   "outputs": [
    {
     "data": {
      "text/plain": [
       "networkx.classes.graph.Graph"
      ]
     },
     "execution_count": 6,
     "metadata": {},
     "output_type": "execute_result"
    }
   ],
   "source": [
    "type(reseau)"
   ]
  },
  {
   "cell_type": "code",
   "execution_count": 27,
   "id": "9576daab-9682-4624-84a3-14c1066cf350",
   "metadata": {},
   "outputs": [],
   "source": [
    "reseau = nx.Graph()\n",
    "reseau.add_node(\"adad\", poids=5, cat=\"parcours\")\n",
    "reseau.add_node(\"ssc\", poids=1, cat=\"cours\")\n",
    "reseau.add_node(\"droit donnée\", poids=1, cat=\"cours\")\n",
    "reseau.add_edge(\"adad\",\"ssc\")\n",
    "reseau.add_edge(\"adad\",\"droit donnée\")\n",
    "\n"
   ]
  },
  {
   "cell_type": "code",
   "execution_count": 24,
   "id": "32feb807-9bbb-4f43-b325-a425486631c7",
   "metadata": {},
   "outputs": [
    {
     "name": "stdout",
     "output_type": "stream",
     "text": [
      "Graph with 3 nodes and 2 edges\n"
     ]
    }
   ],
   "source": [
    "print(reseau)"
   ]
  },
  {
   "cell_type": "code",
   "execution_count": 32,
   "id": "1b99c239-3a20-40fa-a298-8a2bf0815b36",
   "metadata": {},
   "outputs": [
    {
     "data": {
      "text/plain": [
       "DegreeView({'adad': 2, 'ssc': 1, 'droit donnée': 1})"
      ]
     },
     "execution_count": 32,
     "metadata": {},
     "output_type": "execute_result"
    }
   ],
   "source": [
    "reseau.degree"
   ]
  },
  {
   "cell_type": "code",
   "execution_count": 29,
   "id": "0f9c7aa2-c7b6-44a2-973c-966fa5ac3d05",
   "metadata": {},
   "outputs": [
    {
     "data": {
      "application/vnd.jupyter.widget-view+json": {
       "model_id": "efdf428439f2413495a12f74a5058e60",
       "version_major": 2,
       "version_minor": 0
      },
      "text/plain": [
       "Sigma(nx.Graph with 3 nodes and 2 edges)"
      ]
     },
     "execution_count": 29,
     "metadata": {},
     "output_type": "execute_result"
    }
   ],
   "source": [
    "Sigma(reseau, node_size=\"poids\", node_color=\"cat\")"
   ]
  },
  {
   "cell_type": "code",
   "execution_count": 30,
   "id": "85375ee7-ee17-4e5d-ad5d-1a82966192bc",
   "metadata": {},
   "outputs": [],
   "source": [
    "nx.write_graphml(reseau,\"mon_reseau.graphml\")"
   ]
  },
  {
   "cell_type": "markdown",
   "id": "ad4c2d6f-5efe-4553-952c-b835e04d2c17",
   "metadata": {},
   "source": [
    "## Réseau relationnel bluesky"
   ]
  },
  {
   "cell_type": "code",
   "execution_count": 33,
   "id": "51fa6676-b61e-4728-9014-6bd3c1894418",
   "metadata": {},
   "outputs": [
    {
     "data": {
      "text/plain": [
       "ProfileViewDetailed(did='did:plc:svofadxzzkfjjcjh3xzhy73v', handle='activetigger.bsky.social', associated=ProfileAssociated(chat=None, feedgens=0, labeler=False, lists=0, starter_packs=0, py_type='app.bsky.actor.defs#profileAssociated'), avatar='https://cdn.bsky.app/img/avatar/plain/did:plc:svofadxzzkfjjcjh3xzhy73v/bafkreieocqwf3shlt5uzpm6rf26z36utigo5ktwlqqppkvhkotu3yqmkxe@jpeg', banner=None, created_at='2025-03-09T16:02:10.241Z', description=None, display_name='', followers_count=1, follows_count=1, indexed_at='2025-03-09T16:02:10.241Z', joined_via_starter_pack=None, labels=[], pinned_post=None, posts_count=3, viewer=ViewerState(blocked_by=False, blocking=None, blocking_by_list=None, followed_by=None, following=None, known_followers=None, muted=False, muted_by_list=None, py_type='app.bsky.actor.defs#viewerState'), py_type='app.bsky.actor.defs#profileViewDetailed')"
      ]
     },
     "execution_count": 33,
     "metadata": {},
     "output_type": "execute_result"
    }
   ],
   "source": [
    "import yaml\n",
    "from atproto import Client\n",
    "\n",
    "with open(\"./../../creds.yaml\", \"r\") as f: \n",
    "    creds = yaml.load(f, Loader=yaml.FullLoader)\n",
    "client = Client()\n",
    "client.login(creds[\"username\"], creds[\"password\"])"
   ]
  },
  {
   "cell_type": "code",
   "execution_count": 41,
   "id": "64d239bd-a0ed-4b45-a5f9-2bfa6a2c4350",
   "metadata": {},
   "outputs": [],
   "source": [
    "req = client.get_followers(\"emilienschultz.bsky.social\", limit=100)"
   ]
  },
  {
   "cell_type": "code",
   "execution_count": 56,
   "id": "8948b625-4357-4b3d-8467-8c6b6f30b506",
   "metadata": {},
   "outputs": [],
   "source": [
    "reseau_followers = nx.Graph()\n",
    "reseau_followers.add_node(\"emilienschultz.bsky.social\", poids = 10)\n",
    "for follower in req.followers:\n",
    "    reseau_followers.add_node(follower.handle, poids=1)\n",
    "    reseau_followers.add_edge(\"emilienschultz.bsky.social\", follower.handle)"
   ]
  },
  {
   "cell_type": "code",
   "execution_count": 47,
   "id": "e5c9be11-ea3e-48c9-8e43-21f14d41df30",
   "metadata": {},
   "outputs": [
    {
     "name": "stdout",
     "output_type": "stream",
     "text": [
      "Graph with 95 nodes and 93 edges\n"
     ]
    }
   ],
   "source": [
    "print(reseau_followers)"
   ]
  },
  {
   "cell_type": "code",
   "execution_count": 57,
   "id": "65796b09-88b9-470b-b275-33ecf23c726e",
   "metadata": {},
   "outputs": [
    {
     "data": {
      "application/vnd.jupyter.widget-view+json": {
       "model_id": "31c0d8c7bdbf40b5a64489a7f733afc6",
       "version_major": 2,
       "version_minor": 0
      },
      "text/plain": [
       "Sigma(nx.Graph with 94 nodes and 93 edges)"
      ]
     },
     "execution_count": 57,
     "metadata": {},
     "output_type": "execute_result"
    }
   ],
   "source": [
    "Sigma(reseau_followers, node_size=\"poids\")"
   ]
  },
  {
   "cell_type": "code",
   "execution_count": null,
   "id": "0c21dd23-7768-46d3-a19d-0d2605a522b1",
   "metadata": {},
   "outputs": [],
   "source": []
  }
 ],
 "metadata": {
  "kernelspec": {
   "display_name": "Python 3 (ipykernel)",
   "language": "python",
   "name": "python3"
  },
  "language_info": {
   "codemirror_mode": {
    "name": "ipython",
    "version": 3
   },
   "file_extension": ".py",
   "mimetype": "text/x-python",
   "name": "python",
   "nbconvert_exporter": "python",
   "pygments_lexer": "ipython3",
   "version": "3.11.7"
  }
 },
 "nbformat": 4,
 "nbformat_minor": 5
}
