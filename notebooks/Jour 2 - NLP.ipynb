{
 "cells": [
  {
   "cell_type": "code",
   "execution_count": 9,
   "id": "2687a6c9-e5fb-4e3b-a561-b83e11b2c2de",
   "metadata": {},
   "outputs": [],
   "source": [
    "import pandas as pd\n",
    "import re"
   ]
  },
  {
   "cell_type": "code",
   "execution_count": 10,
   "id": "1425f2dd-afac-424b-a28e-4a5a019c5462",
   "metadata": {},
   "outputs": [
    {
     "data": {
      "text/html": [
       "<div>\n",
       "<style scoped>\n",
       "    .dataframe tbody tr th:only-of-type {\n",
       "        vertical-align: middle;\n",
       "    }\n",
       "\n",
       "    .dataframe tbody tr th {\n",
       "        vertical-align: top;\n",
       "    }\n",
       "\n",
       "    .dataframe thead th {\n",
       "        text-align: right;\n",
       "    }\n",
       "</style>\n",
       "<table border=\"1\" class=\"dataframe\">\n",
       "  <thead>\n",
       "    <tr style=\"text-align: right;\">\n",
       "      <th></th>\n",
       "      <th>Unnamed: 0</th>\n",
       "      <th>created_at</th>\n",
       "      <th>text</th>\n",
       "      <th>handle</th>\n",
       "      <th>displayname</th>\n",
       "      <th>like</th>\n",
       "      <th>repost</th>\n",
       "      <th>reply</th>\n",
       "    </tr>\n",
       "  </thead>\n",
       "  <tbody>\n",
       "    <tr>\n",
       "      <th>0</th>\n",
       "      <td>0</td>\n",
       "      <td>2025-03-25T07:55:40.962Z</td>\n",
       "      <td>🚨Voici un outil Open Source très intéressant e...</td>\n",
       "      <td>duggytuxy.bsky.social</td>\n",
       "      <td>Laurent M.</td>\n",
       "      <td>1</td>\n",
       "      <td>0</td>\n",
       "      <td>0</td>\n",
       "    </tr>\n",
       "    <tr>\n",
       "      <th>1</th>\n",
       "      <td>1</td>\n",
       "      <td>2025-03-24T22:14:22.627Z</td>\n",
       "      <td>“If I had to speculate” proceeds to continue b...</td>\n",
       "      <td>ilarias.bsky.social</td>\n",
       "      <td>Ilaria 🇺🇦🇵🇱🇱🇹</td>\n",
       "      <td>1</td>\n",
       "      <td>0</td>\n",
       "      <td>1</td>\n",
       "    </tr>\n",
       "    <tr>\n",
       "      <th>2</th>\n",
       "      <td>2</td>\n",
       "      <td>2025-03-24T21:51:17.024Z</td>\n",
       "      <td>Modest proposal on a fix to this (𝘳𝘦𝘱𝘭𝘢𝘤𝘦 𝘵𝘩𝘦 ...</td>\n",
       "      <td>rogntudju.bsky.social</td>\n",
       "      <td>𓃰 Rogntuudju 𓃰</td>\n",
       "      <td>1</td>\n",
       "      <td>0</td>\n",
       "      <td>0</td>\n",
       "    </tr>\n",
       "    <tr>\n",
       "      <th>3</th>\n",
       "      <td>3</td>\n",
       "      <td>2025-03-24T20:59:01.804Z</td>\n",
       "      <td>Et je te parle même pas des groupes plus ou mo...</td>\n",
       "      <td>akbida.bsky.social</td>\n",
       "      <td>Abdellatif Kbida</td>\n",
       "      <td>1</td>\n",
       "      <td>0</td>\n",
       "      <td>1</td>\n",
       "    </tr>\n",
       "    <tr>\n",
       "      <th>4</th>\n",
       "      <td>4</td>\n",
       "      <td>2025-03-24T18:04:17.512Z</td>\n",
       "      <td>« les constatations humaines » : donc ils bluf...</td>\n",
       "      <td>caligans.bsky.social</td>\n",
       "      <td>phantôme</td>\n",
       "      <td>0</td>\n",
       "      <td>0</td>\n",
       "      <td>1</td>\n",
       "    </tr>\n",
       "  </tbody>\n",
       "</table>\n",
       "</div>"
      ],
      "text/plain": [
       "   Unnamed: 0                created_at  \\\n",
       "0           0  2025-03-25T07:55:40.962Z   \n",
       "1           1  2025-03-24T22:14:22.627Z   \n",
       "2           2  2025-03-24T21:51:17.024Z   \n",
       "3           3  2025-03-24T20:59:01.804Z   \n",
       "4           4  2025-03-24T18:04:17.512Z   \n",
       "\n",
       "                                                text                 handle  \\\n",
       "0  🚨Voici un outil Open Source très intéressant e...  duggytuxy.bsky.social   \n",
       "1  “If I had to speculate” proceeds to continue b...    ilarias.bsky.social   \n",
       "2  Modest proposal on a fix to this (𝘳𝘦𝘱𝘭𝘢𝘤𝘦 𝘵𝘩𝘦 ...  rogntudju.bsky.social   \n",
       "3  Et je te parle même pas des groupes plus ou mo...     akbida.bsky.social   \n",
       "4  « les constatations humaines » : donc ils bluf...   caligans.bsky.social   \n",
       "\n",
       "        displayname  like  repost  reply  \n",
       "0        Laurent M.     1       0      0  \n",
       "1     Ilaria 🇺🇦🇵🇱🇱🇹     1       0      1  \n",
       "2   𓃰 Rogntuudju 𓃰      1       0      0  \n",
       "3  Abdellatif Kbida     1       0      1  \n",
       "4          phantôme     0       0      1  "
      ]
     },
     "execution_count": 10,
     "metadata": {},
     "output_type": "execute_result"
    }
   ],
   "source": [
    "df = pd.read_csv(\"./../../data_llm_bs.csv\")\n",
    "df.head()"
   ]
  },
  {
   "cell_type": "markdown",
   "id": "b345ec7f-8fb7-4575-bdcd-74861d16f6a0",
   "metadata": {},
   "source": [
    "## Regex"
   ]
  },
  {
   "cell_type": "code",
   "execution_count": 4,
   "id": "cc8c7b7b-56b8-420b-9859-028f6b29e333",
   "metadata": {},
   "outputs": [
    {
     "data": {
      "text/plain": [
       "\u001b[0;31mSignature:\u001b[0m \u001b[0mre\u001b[0m\u001b[0;34m.\u001b[0m\u001b[0mfindall\u001b[0m\u001b[0;34m(\u001b[0m\u001b[0mpattern\u001b[0m\u001b[0;34m,\u001b[0m \u001b[0mstring\u001b[0m\u001b[0;34m,\u001b[0m \u001b[0mflags\u001b[0m\u001b[0;34m=\u001b[0m\u001b[0;36m0\u001b[0m\u001b[0;34m)\u001b[0m\u001b[0;34m\u001b[0m\u001b[0;34m\u001b[0m\u001b[0m\n",
       "\u001b[0;31mDocstring:\u001b[0m\n",
       "Return a list of all non-overlapping matches in the string.\n",
       "\n",
       "If one or more capturing groups are present in the pattern, return\n",
       "a list of groups; this will be a list of tuples if the pattern\n",
       "has more than one group.\n",
       "\n",
       "Empty matches are included in the result.\n",
       "\u001b[0;31mFile:\u001b[0m      /opt/anaconda3/lib/python3.11/re/__init__.py\n",
       "\u001b[0;31mType:\u001b[0m      function"
      ]
     },
     "metadata": {},
     "output_type": "display_data"
    }
   ],
   "source": [
    "re.findall?"
   ]
  },
  {
   "cell_type": "code",
   "execution_count": 14,
   "id": "b03cdb9b-d610-42d6-8cd3-162a20abc588",
   "metadata": {},
   "outputs": [],
   "source": [
    "mask = r\"\\b(\\d{4})\\b\""
   ]
  },
  {
   "cell_type": "markdown",
   "id": "52bb2a92-8cbb-4861-a702-2684baf020ea",
   "metadata": {},
   "source": [
    "- on veut quatre caractères numériques à la suite : `\\d{4}`\n",
    "- on veut que la regex renvoie que cet élément : `(\\d{4})`\n",
    "- on veut que ces quatre caractères soit en bordure de part et d'autre : `\\b(\\d{4})\\b`"
   ]
  },
  {
   "cell_type": "code",
   "execution_count": 15,
   "id": "09c85073-c608-43a4-87da-85b9a6446afa",
   "metadata": {},
   "outputs": [
    {
     "data": {
      "text/plain": [
       "['2342', '3323']"
      ]
     },
     "execution_count": 15,
     "metadata": {},
     "output_type": "execute_result"
    }
   ],
   "source": [
    "re.findall(mask,\"Ceci est une année 2342, et ceci est une autre 3323\")"
   ]
  },
  {
   "cell_type": "code",
   "execution_count": 20,
   "id": "86797408-ba1e-45dd-8614-e81e8ea9dd00",
   "metadata": {},
   "outputs": [
    {
     "data": {
      "text/plain": [
       "0           []\n",
       "1           []\n",
       "2           []\n",
       "3           []\n",
       "4           []\n",
       "         ...  \n",
       "2394        []\n",
       "2395        []\n",
       "2396        []\n",
       "2397    [2023]\n",
       "2398        []\n",
       "Name: text, Length: 2399, dtype: object"
      ]
     },
     "execution_count": 20,
     "metadata": {},
     "output_type": "execute_result"
    }
   ],
   "source": [
    "df[\"text\"].apply(lambda x : re.findall(mask, x))"
   ]
  },
  {
   "cell_type": "code",
   "execution_count": 17,
   "id": "964b8054-64e2-46dd-aae1-a0b48934fe85",
   "metadata": {},
   "outputs": [
    {
     "data": {
      "text/html": [
       "<div>\n",
       "<style scoped>\n",
       "    .dataframe tbody tr th:only-of-type {\n",
       "        vertical-align: middle;\n",
       "    }\n",
       "\n",
       "    .dataframe tbody tr th {\n",
       "        vertical-align: top;\n",
       "    }\n",
       "\n",
       "    .dataframe thead th {\n",
       "        text-align: right;\n",
       "    }\n",
       "</style>\n",
       "<table border=\"1\" class=\"dataframe\">\n",
       "  <thead>\n",
       "    <tr style=\"text-align: right;\">\n",
       "      <th></th>\n",
       "      <th></th>\n",
       "      <th>0</th>\n",
       "    </tr>\n",
       "    <tr>\n",
       "      <th></th>\n",
       "      <th>match</th>\n",
       "      <th></th>\n",
       "    </tr>\n",
       "  </thead>\n",
       "  <tbody>\n",
       "    <tr>\n",
       "      <th>6</th>\n",
       "      <th>0</th>\n",
       "      <td>2025</td>\n",
       "    </tr>\n",
       "    <tr>\n",
       "      <th>23</th>\n",
       "      <th>0</th>\n",
       "      <td>2025</td>\n",
       "    </tr>\n",
       "    <tr>\n",
       "      <th>40</th>\n",
       "      <th>0</th>\n",
       "      <td>2025</td>\n",
       "    </tr>\n",
       "    <tr>\n",
       "      <th>50</th>\n",
       "      <th>0</th>\n",
       "      <td>1300</td>\n",
       "    </tr>\n",
       "    <tr>\n",
       "      <th>56</th>\n",
       "      <th>0</th>\n",
       "      <td>2020</td>\n",
       "    </tr>\n",
       "    <tr>\n",
       "      <th>...</th>\n",
       "      <th>...</th>\n",
       "      <td>...</td>\n",
       "    </tr>\n",
       "    <tr>\n",
       "      <th>2329</th>\n",
       "      <th>0</th>\n",
       "      <td>2309</td>\n",
       "    </tr>\n",
       "    <tr>\n",
       "      <th>2339</th>\n",
       "      <th>0</th>\n",
       "      <td>2307</td>\n",
       "    </tr>\n",
       "    <tr>\n",
       "      <th>2384</th>\n",
       "      <th>0</th>\n",
       "      <td>3000</td>\n",
       "    </tr>\n",
       "    <tr>\n",
       "      <th>2391</th>\n",
       "      <th>0</th>\n",
       "      <td>2023</td>\n",
       "    </tr>\n",
       "    <tr>\n",
       "      <th>2397</th>\n",
       "      <th>0</th>\n",
       "      <td>2023</td>\n",
       "    </tr>\n",
       "  </tbody>\n",
       "</table>\n",
       "<p>176 rows × 1 columns</p>\n",
       "</div>"
      ],
      "text/plain": [
       "               0\n",
       "     match      \n",
       "6    0      2025\n",
       "23   0      2025\n",
       "40   0      2025\n",
       "50   0      1300\n",
       "56   0      2020\n",
       "...          ...\n",
       "2329 0      2309\n",
       "2339 0      2307\n",
       "2384 0      3000\n",
       "2391 0      2023\n",
       "2397 0      2023\n",
       "\n",
       "[176 rows x 1 columns]"
      ]
     },
     "execution_count": 17,
     "metadata": {},
     "output_type": "execute_result"
    }
   ],
   "source": [
    "df[\"text\"].str.extractall(mask)"
   ]
  },
  {
   "cell_type": "markdown",
   "id": "d1f851f5-a677-40ad-9f0f-e3996a3cc8ec",
   "metadata": {},
   "source": [
    "## Découper un texte en mots"
   ]
  },
  {
   "cell_type": "code",
   "execution_count": 22,
   "id": "9e9b4c53-2afb-4a6a-b96c-54c2f3851e9f",
   "metadata": {},
   "outputs": [
    {
     "data": {
      "text/plain": [
       "['il', 'fait', 'beau', 'aujourd', 'hui']"
      ]
     },
     "execution_count": 22,
     "metadata": {},
     "output_type": "execute_result"
    }
   ],
   "source": [
    "texte = \"il fait beau aujourd'hui\"\n",
    "mots = re.split(r\"\\W+\", texte)\n",
    "mots"
   ]
  },
  {
   "cell_type": "markdown",
   "id": "40104716-d9f8-4730-80f6-bf756e5a4750",
   "metadata": {},
   "source": [
    "## Contruire la matrice document/terme"
   ]
  },
  {
   "cell_type": "code",
   "execution_count": 25,
   "id": "1179598b-ecda-4f32-bd77-584335c8f0d9",
   "metadata": {},
   "outputs": [],
   "source": [
    "#pip install scikit-learn"
   ]
  },
  {
   "cell_type": "code",
   "execution_count": 26,
   "id": "f5798715-fdbe-45ae-9a90-7d8c1d6b4dbd",
   "metadata": {},
   "outputs": [],
   "source": [
    "from sklearn.feature_extraction.text import CountVectorizer"
   ]
  },
  {
   "cell_type": "code",
   "execution_count": 27,
   "id": "aa060408-5b11-4f11-82ca-f1fefa0b95fb",
   "metadata": {},
   "outputs": [
    {
     "data": {
      "text/plain": [
       "sklearn.feature_extraction.text.CountVectorizer"
      ]
     },
     "execution_count": 27,
     "metadata": {},
     "output_type": "execute_result"
    }
   ],
   "source": [
    "CountVectorizer"
   ]
  },
  {
   "cell_type": "code",
   "execution_count": 28,
   "id": "b1fc6056-d174-41dc-add4-86e98840b137",
   "metadata": {},
   "outputs": [],
   "source": [
    "modele = CountVectorizer(min_df=5)"
   ]
  },
  {
   "cell_type": "code",
   "execution_count": 39,
   "id": "cef54b0f-6c65-4441-b4ad-db78d16c3435",
   "metadata": {},
   "outputs": [
    {
     "data": {
      "text/html": [
       "<style>#sk-container-id-3 {\n",
       "  /* Definition of color scheme common for light and dark mode */\n",
       "  --sklearn-color-text: #000;\n",
       "  --sklearn-color-text-muted: #666;\n",
       "  --sklearn-color-line: gray;\n",
       "  /* Definition of color scheme for unfitted estimators */\n",
       "  --sklearn-color-unfitted-level-0: #fff5e6;\n",
       "  --sklearn-color-unfitted-level-1: #f6e4d2;\n",
       "  --sklearn-color-unfitted-level-2: #ffe0b3;\n",
       "  --sklearn-color-unfitted-level-3: chocolate;\n",
       "  /* Definition of color scheme for fitted estimators */\n",
       "  --sklearn-color-fitted-level-0: #f0f8ff;\n",
       "  --sklearn-color-fitted-level-1: #d4ebff;\n",
       "  --sklearn-color-fitted-level-2: #b3dbfd;\n",
       "  --sklearn-color-fitted-level-3: cornflowerblue;\n",
       "\n",
       "  /* Specific color for light theme */\n",
       "  --sklearn-color-text-on-default-background: var(--sg-text-color, var(--theme-code-foreground, var(--jp-content-font-color1, black)));\n",
       "  --sklearn-color-background: var(--sg-background-color, var(--theme-background, var(--jp-layout-color0, white)));\n",
       "  --sklearn-color-border-box: var(--sg-text-color, var(--theme-code-foreground, var(--jp-content-font-color1, black)));\n",
       "  --sklearn-color-icon: #696969;\n",
       "\n",
       "  @media (prefers-color-scheme: dark) {\n",
       "    /* Redefinition of color scheme for dark theme */\n",
       "    --sklearn-color-text-on-default-background: var(--sg-text-color, var(--theme-code-foreground, var(--jp-content-font-color1, white)));\n",
       "    --sklearn-color-background: var(--sg-background-color, var(--theme-background, var(--jp-layout-color0, #111)));\n",
       "    --sklearn-color-border-box: var(--sg-text-color, var(--theme-code-foreground, var(--jp-content-font-color1, white)));\n",
       "    --sklearn-color-icon: #878787;\n",
       "  }\n",
       "}\n",
       "\n",
       "#sk-container-id-3 {\n",
       "  color: var(--sklearn-color-text);\n",
       "}\n",
       "\n",
       "#sk-container-id-3 pre {\n",
       "  padding: 0;\n",
       "}\n",
       "\n",
       "#sk-container-id-3 input.sk-hidden--visually {\n",
       "  border: 0;\n",
       "  clip: rect(1px 1px 1px 1px);\n",
       "  clip: rect(1px, 1px, 1px, 1px);\n",
       "  height: 1px;\n",
       "  margin: -1px;\n",
       "  overflow: hidden;\n",
       "  padding: 0;\n",
       "  position: absolute;\n",
       "  width: 1px;\n",
       "}\n",
       "\n",
       "#sk-container-id-3 div.sk-dashed-wrapped {\n",
       "  border: 1px dashed var(--sklearn-color-line);\n",
       "  margin: 0 0.4em 0.5em 0.4em;\n",
       "  box-sizing: border-box;\n",
       "  padding-bottom: 0.4em;\n",
       "  background-color: var(--sklearn-color-background);\n",
       "}\n",
       "\n",
       "#sk-container-id-3 div.sk-container {\n",
       "  /* jupyter's `normalize.less` sets `[hidden] { display: none; }`\n",
       "     but bootstrap.min.css set `[hidden] { display: none !important; }`\n",
       "     so we also need the `!important` here to be able to override the\n",
       "     default hidden behavior on the sphinx rendered scikit-learn.org.\n",
       "     See: https://github.com/scikit-learn/scikit-learn/issues/21755 */\n",
       "  display: inline-block !important;\n",
       "  position: relative;\n",
       "}\n",
       "\n",
       "#sk-container-id-3 div.sk-text-repr-fallback {\n",
       "  display: none;\n",
       "}\n",
       "\n",
       "div.sk-parallel-item,\n",
       "div.sk-serial,\n",
       "div.sk-item {\n",
       "  /* draw centered vertical line to link estimators */\n",
       "  background-image: linear-gradient(var(--sklearn-color-text-on-default-background), var(--sklearn-color-text-on-default-background));\n",
       "  background-size: 2px 100%;\n",
       "  background-repeat: no-repeat;\n",
       "  background-position: center center;\n",
       "}\n",
       "\n",
       "/* Parallel-specific style estimator block */\n",
       "\n",
       "#sk-container-id-3 div.sk-parallel-item::after {\n",
       "  content: \"\";\n",
       "  width: 100%;\n",
       "  border-bottom: 2px solid var(--sklearn-color-text-on-default-background);\n",
       "  flex-grow: 1;\n",
       "}\n",
       "\n",
       "#sk-container-id-3 div.sk-parallel {\n",
       "  display: flex;\n",
       "  align-items: stretch;\n",
       "  justify-content: center;\n",
       "  background-color: var(--sklearn-color-background);\n",
       "  position: relative;\n",
       "}\n",
       "\n",
       "#sk-container-id-3 div.sk-parallel-item {\n",
       "  display: flex;\n",
       "  flex-direction: column;\n",
       "}\n",
       "\n",
       "#sk-container-id-3 div.sk-parallel-item:first-child::after {\n",
       "  align-self: flex-end;\n",
       "  width: 50%;\n",
       "}\n",
       "\n",
       "#sk-container-id-3 div.sk-parallel-item:last-child::after {\n",
       "  align-self: flex-start;\n",
       "  width: 50%;\n",
       "}\n",
       "\n",
       "#sk-container-id-3 div.sk-parallel-item:only-child::after {\n",
       "  width: 0;\n",
       "}\n",
       "\n",
       "/* Serial-specific style estimator block */\n",
       "\n",
       "#sk-container-id-3 div.sk-serial {\n",
       "  display: flex;\n",
       "  flex-direction: column;\n",
       "  align-items: center;\n",
       "  background-color: var(--sklearn-color-background);\n",
       "  padding-right: 1em;\n",
       "  padding-left: 1em;\n",
       "}\n",
       "\n",
       "\n",
       "/* Toggleable style: style used for estimator/Pipeline/ColumnTransformer box that is\n",
       "clickable and can be expanded/collapsed.\n",
       "- Pipeline and ColumnTransformer use this feature and define the default style\n",
       "- Estimators will overwrite some part of the style using the `sk-estimator` class\n",
       "*/\n",
       "\n",
       "/* Pipeline and ColumnTransformer style (default) */\n",
       "\n",
       "#sk-container-id-3 div.sk-toggleable {\n",
       "  /* Default theme specific background. It is overwritten whether we have a\n",
       "  specific estimator or a Pipeline/ColumnTransformer */\n",
       "  background-color: var(--sklearn-color-background);\n",
       "}\n",
       "\n",
       "/* Toggleable label */\n",
       "#sk-container-id-3 label.sk-toggleable__label {\n",
       "  cursor: pointer;\n",
       "  display: flex;\n",
       "  width: 100%;\n",
       "  margin-bottom: 0;\n",
       "  padding: 0.5em;\n",
       "  box-sizing: border-box;\n",
       "  text-align: center;\n",
       "  align-items: start;\n",
       "  justify-content: space-between;\n",
       "  gap: 0.5em;\n",
       "}\n",
       "\n",
       "#sk-container-id-3 label.sk-toggleable__label .caption {\n",
       "  font-size: 0.6rem;\n",
       "  font-weight: lighter;\n",
       "  color: var(--sklearn-color-text-muted);\n",
       "}\n",
       "\n",
       "#sk-container-id-3 label.sk-toggleable__label-arrow:before {\n",
       "  /* Arrow on the left of the label */\n",
       "  content: \"▸\";\n",
       "  float: left;\n",
       "  margin-right: 0.25em;\n",
       "  color: var(--sklearn-color-icon);\n",
       "}\n",
       "\n",
       "#sk-container-id-3 label.sk-toggleable__label-arrow:hover:before {\n",
       "  color: var(--sklearn-color-text);\n",
       "}\n",
       "\n",
       "/* Toggleable content - dropdown */\n",
       "\n",
       "#sk-container-id-3 div.sk-toggleable__content {\n",
       "  max-height: 0;\n",
       "  max-width: 0;\n",
       "  overflow: hidden;\n",
       "  text-align: left;\n",
       "  /* unfitted */\n",
       "  background-color: var(--sklearn-color-unfitted-level-0);\n",
       "}\n",
       "\n",
       "#sk-container-id-3 div.sk-toggleable__content.fitted {\n",
       "  /* fitted */\n",
       "  background-color: var(--sklearn-color-fitted-level-0);\n",
       "}\n",
       "\n",
       "#sk-container-id-3 div.sk-toggleable__content pre {\n",
       "  margin: 0.2em;\n",
       "  border-radius: 0.25em;\n",
       "  color: var(--sklearn-color-text);\n",
       "  /* unfitted */\n",
       "  background-color: var(--sklearn-color-unfitted-level-0);\n",
       "}\n",
       "\n",
       "#sk-container-id-3 div.sk-toggleable__content.fitted pre {\n",
       "  /* unfitted */\n",
       "  background-color: var(--sklearn-color-fitted-level-0);\n",
       "}\n",
       "\n",
       "#sk-container-id-3 input.sk-toggleable__control:checked~div.sk-toggleable__content {\n",
       "  /* Expand drop-down */\n",
       "  max-height: 200px;\n",
       "  max-width: 100%;\n",
       "  overflow: auto;\n",
       "}\n",
       "\n",
       "#sk-container-id-3 input.sk-toggleable__control:checked~label.sk-toggleable__label-arrow:before {\n",
       "  content: \"▾\";\n",
       "}\n",
       "\n",
       "/* Pipeline/ColumnTransformer-specific style */\n",
       "\n",
       "#sk-container-id-3 div.sk-label input.sk-toggleable__control:checked~label.sk-toggleable__label {\n",
       "  color: var(--sklearn-color-text);\n",
       "  background-color: var(--sklearn-color-unfitted-level-2);\n",
       "}\n",
       "\n",
       "#sk-container-id-3 div.sk-label.fitted input.sk-toggleable__control:checked~label.sk-toggleable__label {\n",
       "  background-color: var(--sklearn-color-fitted-level-2);\n",
       "}\n",
       "\n",
       "/* Estimator-specific style */\n",
       "\n",
       "/* Colorize estimator box */\n",
       "#sk-container-id-3 div.sk-estimator input.sk-toggleable__control:checked~label.sk-toggleable__label {\n",
       "  /* unfitted */\n",
       "  background-color: var(--sklearn-color-unfitted-level-2);\n",
       "}\n",
       "\n",
       "#sk-container-id-3 div.sk-estimator.fitted input.sk-toggleable__control:checked~label.sk-toggleable__label {\n",
       "  /* fitted */\n",
       "  background-color: var(--sklearn-color-fitted-level-2);\n",
       "}\n",
       "\n",
       "#sk-container-id-3 div.sk-label label.sk-toggleable__label,\n",
       "#sk-container-id-3 div.sk-label label {\n",
       "  /* The background is the default theme color */\n",
       "  color: var(--sklearn-color-text-on-default-background);\n",
       "}\n",
       "\n",
       "/* On hover, darken the color of the background */\n",
       "#sk-container-id-3 div.sk-label:hover label.sk-toggleable__label {\n",
       "  color: var(--sklearn-color-text);\n",
       "  background-color: var(--sklearn-color-unfitted-level-2);\n",
       "}\n",
       "\n",
       "/* Label box, darken color on hover, fitted */\n",
       "#sk-container-id-3 div.sk-label.fitted:hover label.sk-toggleable__label.fitted {\n",
       "  color: var(--sklearn-color-text);\n",
       "  background-color: var(--sklearn-color-fitted-level-2);\n",
       "}\n",
       "\n",
       "/* Estimator label */\n",
       "\n",
       "#sk-container-id-3 div.sk-label label {\n",
       "  font-family: monospace;\n",
       "  font-weight: bold;\n",
       "  display: inline-block;\n",
       "  line-height: 1.2em;\n",
       "}\n",
       "\n",
       "#sk-container-id-3 div.sk-label-container {\n",
       "  text-align: center;\n",
       "}\n",
       "\n",
       "/* Estimator-specific */\n",
       "#sk-container-id-3 div.sk-estimator {\n",
       "  font-family: monospace;\n",
       "  border: 1px dotted var(--sklearn-color-border-box);\n",
       "  border-radius: 0.25em;\n",
       "  box-sizing: border-box;\n",
       "  margin-bottom: 0.5em;\n",
       "  /* unfitted */\n",
       "  background-color: var(--sklearn-color-unfitted-level-0);\n",
       "}\n",
       "\n",
       "#sk-container-id-3 div.sk-estimator.fitted {\n",
       "  /* fitted */\n",
       "  background-color: var(--sklearn-color-fitted-level-0);\n",
       "}\n",
       "\n",
       "/* on hover */\n",
       "#sk-container-id-3 div.sk-estimator:hover {\n",
       "  /* unfitted */\n",
       "  background-color: var(--sklearn-color-unfitted-level-2);\n",
       "}\n",
       "\n",
       "#sk-container-id-3 div.sk-estimator.fitted:hover {\n",
       "  /* fitted */\n",
       "  background-color: var(--sklearn-color-fitted-level-2);\n",
       "}\n",
       "\n",
       "/* Specification for estimator info (e.g. \"i\" and \"?\") */\n",
       "\n",
       "/* Common style for \"i\" and \"?\" */\n",
       "\n",
       ".sk-estimator-doc-link,\n",
       "a:link.sk-estimator-doc-link,\n",
       "a:visited.sk-estimator-doc-link {\n",
       "  float: right;\n",
       "  font-size: smaller;\n",
       "  line-height: 1em;\n",
       "  font-family: monospace;\n",
       "  background-color: var(--sklearn-color-background);\n",
       "  border-radius: 1em;\n",
       "  height: 1em;\n",
       "  width: 1em;\n",
       "  text-decoration: none !important;\n",
       "  margin-left: 0.5em;\n",
       "  text-align: center;\n",
       "  /* unfitted */\n",
       "  border: var(--sklearn-color-unfitted-level-1) 1pt solid;\n",
       "  color: var(--sklearn-color-unfitted-level-1);\n",
       "}\n",
       "\n",
       ".sk-estimator-doc-link.fitted,\n",
       "a:link.sk-estimator-doc-link.fitted,\n",
       "a:visited.sk-estimator-doc-link.fitted {\n",
       "  /* fitted */\n",
       "  border: var(--sklearn-color-fitted-level-1) 1pt solid;\n",
       "  color: var(--sklearn-color-fitted-level-1);\n",
       "}\n",
       "\n",
       "/* On hover */\n",
       "div.sk-estimator:hover .sk-estimator-doc-link:hover,\n",
       ".sk-estimator-doc-link:hover,\n",
       "div.sk-label-container:hover .sk-estimator-doc-link:hover,\n",
       ".sk-estimator-doc-link:hover {\n",
       "  /* unfitted */\n",
       "  background-color: var(--sklearn-color-unfitted-level-3);\n",
       "  color: var(--sklearn-color-background);\n",
       "  text-decoration: none;\n",
       "}\n",
       "\n",
       "div.sk-estimator.fitted:hover .sk-estimator-doc-link.fitted:hover,\n",
       ".sk-estimator-doc-link.fitted:hover,\n",
       "div.sk-label-container:hover .sk-estimator-doc-link.fitted:hover,\n",
       ".sk-estimator-doc-link.fitted:hover {\n",
       "  /* fitted */\n",
       "  background-color: var(--sklearn-color-fitted-level-3);\n",
       "  color: var(--sklearn-color-background);\n",
       "  text-decoration: none;\n",
       "}\n",
       "\n",
       "/* Span, style for the box shown on hovering the info icon */\n",
       ".sk-estimator-doc-link span {\n",
       "  display: none;\n",
       "  z-index: 9999;\n",
       "  position: relative;\n",
       "  font-weight: normal;\n",
       "  right: .2ex;\n",
       "  padding: .5ex;\n",
       "  margin: .5ex;\n",
       "  width: min-content;\n",
       "  min-width: 20ex;\n",
       "  max-width: 50ex;\n",
       "  color: var(--sklearn-color-text);\n",
       "  box-shadow: 2pt 2pt 4pt #999;\n",
       "  /* unfitted */\n",
       "  background: var(--sklearn-color-unfitted-level-0);\n",
       "  border: .5pt solid var(--sklearn-color-unfitted-level-3);\n",
       "}\n",
       "\n",
       ".sk-estimator-doc-link.fitted span {\n",
       "  /* fitted */\n",
       "  background: var(--sklearn-color-fitted-level-0);\n",
       "  border: var(--sklearn-color-fitted-level-3);\n",
       "}\n",
       "\n",
       ".sk-estimator-doc-link:hover span {\n",
       "  display: block;\n",
       "}\n",
       "\n",
       "/* \"?\"-specific style due to the `<a>` HTML tag */\n",
       "\n",
       "#sk-container-id-3 a.estimator_doc_link {\n",
       "  float: right;\n",
       "  font-size: 1rem;\n",
       "  line-height: 1em;\n",
       "  font-family: monospace;\n",
       "  background-color: var(--sklearn-color-background);\n",
       "  border-radius: 1rem;\n",
       "  height: 1rem;\n",
       "  width: 1rem;\n",
       "  text-decoration: none;\n",
       "  /* unfitted */\n",
       "  color: var(--sklearn-color-unfitted-level-1);\n",
       "  border: var(--sklearn-color-unfitted-level-1) 1pt solid;\n",
       "}\n",
       "\n",
       "#sk-container-id-3 a.estimator_doc_link.fitted {\n",
       "  /* fitted */\n",
       "  border: var(--sklearn-color-fitted-level-1) 1pt solid;\n",
       "  color: var(--sklearn-color-fitted-level-1);\n",
       "}\n",
       "\n",
       "/* On hover */\n",
       "#sk-container-id-3 a.estimator_doc_link:hover {\n",
       "  /* unfitted */\n",
       "  background-color: var(--sklearn-color-unfitted-level-3);\n",
       "  color: var(--sklearn-color-background);\n",
       "  text-decoration: none;\n",
       "}\n",
       "\n",
       "#sk-container-id-3 a.estimator_doc_link.fitted:hover {\n",
       "  /* fitted */\n",
       "  background-color: var(--sklearn-color-fitted-level-3);\n",
       "}\n",
       "</style><div id=\"sk-container-id-3\" class=\"sk-top-container\"><div class=\"sk-text-repr-fallback\"><pre>CountVectorizer(min_df=5)</pre><b>In a Jupyter environment, please rerun this cell to show the HTML representation or trust the notebook. <br />On GitHub, the HTML representation is unable to render, please try loading this page with nbviewer.org.</b></div><div class=\"sk-container\" hidden><div class=\"sk-item\"><div class=\"sk-estimator fitted sk-toggleable\"><input class=\"sk-toggleable__control sk-hidden--visually\" id=\"sk-estimator-id-3\" type=\"checkbox\" checked><label for=\"sk-estimator-id-3\" class=\"sk-toggleable__label fitted sk-toggleable__label-arrow\"><div><div>CountVectorizer</div></div><div><a class=\"sk-estimator-doc-link fitted\" rel=\"noreferrer\" target=\"_blank\" href=\"https://scikit-learn.org/1.6/modules/generated/sklearn.feature_extraction.text.CountVectorizer.html\">?<span>Documentation for CountVectorizer</span></a><span class=\"sk-estimator-doc-link fitted\">i<span>Fitted</span></span></div></label><div class=\"sk-toggleable__content fitted\"><pre>CountVectorizer(min_df=5)</pre></div> </div></div></div></div>"
      ],
      "text/plain": [
       "CountVectorizer(min_df=5)"
      ]
     },
     "execution_count": 39,
     "metadata": {},
     "output_type": "execute_result"
    }
   ],
   "source": [
    "modele.fit(df[\"text\"])"
   ]
  },
  {
   "cell_type": "code",
   "execution_count": 35,
   "id": "af9d1fec-dae6-43aa-8d7c-b5217eb84c15",
   "metadata": {},
   "outputs": [],
   "source": [
    "text_tranform  = modele.transform(df[\"text\"])"
   ]
  },
  {
   "cell_type": "code",
   "execution_count": 45,
   "id": "be809361-6c62-4ec8-8fb5-9d1f9e8dce34",
   "metadata": {},
   "outputs": [
    {
     "data": {
      "text/html": [
       "<div>\n",
       "<style scoped>\n",
       "    .dataframe tbody tr th:only-of-type {\n",
       "        vertical-align: middle;\n",
       "    }\n",
       "\n",
       "    .dataframe tbody tr th {\n",
       "        vertical-align: top;\n",
       "    }\n",
       "\n",
       "    .dataframe thead th {\n",
       "        text-align: right;\n",
       "    }\n",
       "</style>\n",
       "<table border=\"1\" class=\"dataframe\">\n",
       "  <thead>\n",
       "    <tr style=\"text-align: right;\">\n",
       "      <th></th>\n",
       "      <th>000</th>\n",
       "      <th>01</th>\n",
       "      <th>02</th>\n",
       "      <th>05</th>\n",
       "      <th>10</th>\n",
       "      <th>100</th>\n",
       "      <th>10x</th>\n",
       "      <th>11</th>\n",
       "      <th>12</th>\n",
       "      <th>13</th>\n",
       "      <th>...</th>\n",
       "      <th>étudiants</th>\n",
       "      <th>été</th>\n",
       "      <th>évaluation</th>\n",
       "      <th>évidemment</th>\n",
       "      <th>évident</th>\n",
       "      <th>éviter</th>\n",
       "      <th>évoluer</th>\n",
       "      <th>évolution</th>\n",
       "      <th>êtes</th>\n",
       "      <th>être</th>\n",
       "    </tr>\n",
       "  </thead>\n",
       "  <tbody>\n",
       "    <tr>\n",
       "      <th>0</th>\n",
       "      <td>0</td>\n",
       "      <td>0</td>\n",
       "      <td>0</td>\n",
       "      <td>0</td>\n",
       "      <td>0</td>\n",
       "      <td>0</td>\n",
       "      <td>0</td>\n",
       "      <td>0</td>\n",
       "      <td>0</td>\n",
       "      <td>0</td>\n",
       "      <td>...</td>\n",
       "      <td>0</td>\n",
       "      <td>0</td>\n",
       "      <td>0</td>\n",
       "      <td>0</td>\n",
       "      <td>0</td>\n",
       "      <td>0</td>\n",
       "      <td>0</td>\n",
       "      <td>0</td>\n",
       "      <td>0</td>\n",
       "      <td>0</td>\n",
       "    </tr>\n",
       "    <tr>\n",
       "      <th>1</th>\n",
       "      <td>0</td>\n",
       "      <td>0</td>\n",
       "      <td>0</td>\n",
       "      <td>0</td>\n",
       "      <td>0</td>\n",
       "      <td>1</td>\n",
       "      <td>0</td>\n",
       "      <td>0</td>\n",
       "      <td>0</td>\n",
       "      <td>0</td>\n",
       "      <td>...</td>\n",
       "      <td>0</td>\n",
       "      <td>0</td>\n",
       "      <td>0</td>\n",
       "      <td>0</td>\n",
       "      <td>0</td>\n",
       "      <td>0</td>\n",
       "      <td>0</td>\n",
       "      <td>0</td>\n",
       "      <td>0</td>\n",
       "      <td>0</td>\n",
       "    </tr>\n",
       "    <tr>\n",
       "      <th>2</th>\n",
       "      <td>0</td>\n",
       "      <td>0</td>\n",
       "      <td>0</td>\n",
       "      <td>0</td>\n",
       "      <td>0</td>\n",
       "      <td>0</td>\n",
       "      <td>0</td>\n",
       "      <td>0</td>\n",
       "      <td>0</td>\n",
       "      <td>0</td>\n",
       "      <td>...</td>\n",
       "      <td>0</td>\n",
       "      <td>0</td>\n",
       "      <td>0</td>\n",
       "      <td>0</td>\n",
       "      <td>0</td>\n",
       "      <td>0</td>\n",
       "      <td>0</td>\n",
       "      <td>0</td>\n",
       "      <td>0</td>\n",
       "      <td>0</td>\n",
       "    </tr>\n",
       "    <tr>\n",
       "      <th>3</th>\n",
       "      <td>0</td>\n",
       "      <td>0</td>\n",
       "      <td>0</td>\n",
       "      <td>0</td>\n",
       "      <td>0</td>\n",
       "      <td>1</td>\n",
       "      <td>0</td>\n",
       "      <td>0</td>\n",
       "      <td>0</td>\n",
       "      <td>0</td>\n",
       "      <td>...</td>\n",
       "      <td>0</td>\n",
       "      <td>0</td>\n",
       "      <td>0</td>\n",
       "      <td>0</td>\n",
       "      <td>0</td>\n",
       "      <td>0</td>\n",
       "      <td>0</td>\n",
       "      <td>0</td>\n",
       "      <td>0</td>\n",
       "      <td>0</td>\n",
       "    </tr>\n",
       "    <tr>\n",
       "      <th>4</th>\n",
       "      <td>0</td>\n",
       "      <td>0</td>\n",
       "      <td>0</td>\n",
       "      <td>0</td>\n",
       "      <td>0</td>\n",
       "      <td>0</td>\n",
       "      <td>0</td>\n",
       "      <td>0</td>\n",
       "      <td>0</td>\n",
       "      <td>0</td>\n",
       "      <td>...</td>\n",
       "      <td>0</td>\n",
       "      <td>0</td>\n",
       "      <td>0</td>\n",
       "      <td>0</td>\n",
       "      <td>0</td>\n",
       "      <td>0</td>\n",
       "      <td>0</td>\n",
       "      <td>0</td>\n",
       "      <td>0</td>\n",
       "      <td>0</td>\n",
       "    </tr>\n",
       "    <tr>\n",
       "      <th>...</th>\n",
       "      <td>...</td>\n",
       "      <td>...</td>\n",
       "      <td>...</td>\n",
       "      <td>...</td>\n",
       "      <td>...</td>\n",
       "      <td>...</td>\n",
       "      <td>...</td>\n",
       "      <td>...</td>\n",
       "      <td>...</td>\n",
       "      <td>...</td>\n",
       "      <td>...</td>\n",
       "      <td>...</td>\n",
       "      <td>...</td>\n",
       "      <td>...</td>\n",
       "      <td>...</td>\n",
       "      <td>...</td>\n",
       "      <td>...</td>\n",
       "      <td>...</td>\n",
       "      <td>...</td>\n",
       "      <td>...</td>\n",
       "      <td>...</td>\n",
       "    </tr>\n",
       "    <tr>\n",
       "      <th>2394</th>\n",
       "      <td>0</td>\n",
       "      <td>0</td>\n",
       "      <td>0</td>\n",
       "      <td>0</td>\n",
       "      <td>0</td>\n",
       "      <td>0</td>\n",
       "      <td>0</td>\n",
       "      <td>0</td>\n",
       "      <td>0</td>\n",
       "      <td>0</td>\n",
       "      <td>...</td>\n",
       "      <td>0</td>\n",
       "      <td>0</td>\n",
       "      <td>0</td>\n",
       "      <td>0</td>\n",
       "      <td>0</td>\n",
       "      <td>0</td>\n",
       "      <td>0</td>\n",
       "      <td>0</td>\n",
       "      <td>0</td>\n",
       "      <td>0</td>\n",
       "    </tr>\n",
       "    <tr>\n",
       "      <th>2395</th>\n",
       "      <td>0</td>\n",
       "      <td>0</td>\n",
       "      <td>0</td>\n",
       "      <td>0</td>\n",
       "      <td>0</td>\n",
       "      <td>0</td>\n",
       "      <td>0</td>\n",
       "      <td>0</td>\n",
       "      <td>0</td>\n",
       "      <td>0</td>\n",
       "      <td>...</td>\n",
       "      <td>0</td>\n",
       "      <td>0</td>\n",
       "      <td>0</td>\n",
       "      <td>0</td>\n",
       "      <td>0</td>\n",
       "      <td>0</td>\n",
       "      <td>0</td>\n",
       "      <td>0</td>\n",
       "      <td>0</td>\n",
       "      <td>0</td>\n",
       "    </tr>\n",
       "    <tr>\n",
       "      <th>2396</th>\n",
       "      <td>0</td>\n",
       "      <td>0</td>\n",
       "      <td>0</td>\n",
       "      <td>0</td>\n",
       "      <td>0</td>\n",
       "      <td>0</td>\n",
       "      <td>0</td>\n",
       "      <td>0</td>\n",
       "      <td>0</td>\n",
       "      <td>0</td>\n",
       "      <td>...</td>\n",
       "      <td>0</td>\n",
       "      <td>0</td>\n",
       "      <td>0</td>\n",
       "      <td>0</td>\n",
       "      <td>0</td>\n",
       "      <td>0</td>\n",
       "      <td>0</td>\n",
       "      <td>0</td>\n",
       "      <td>0</td>\n",
       "      <td>0</td>\n",
       "    </tr>\n",
       "    <tr>\n",
       "      <th>2397</th>\n",
       "      <td>0</td>\n",
       "      <td>0</td>\n",
       "      <td>0</td>\n",
       "      <td>0</td>\n",
       "      <td>0</td>\n",
       "      <td>0</td>\n",
       "      <td>0</td>\n",
       "      <td>0</td>\n",
       "      <td>0</td>\n",
       "      <td>0</td>\n",
       "      <td>...</td>\n",
       "      <td>0</td>\n",
       "      <td>0</td>\n",
       "      <td>0</td>\n",
       "      <td>0</td>\n",
       "      <td>0</td>\n",
       "      <td>0</td>\n",
       "      <td>0</td>\n",
       "      <td>0</td>\n",
       "      <td>0</td>\n",
       "      <td>0</td>\n",
       "    </tr>\n",
       "    <tr>\n",
       "      <th>2398</th>\n",
       "      <td>0</td>\n",
       "      <td>0</td>\n",
       "      <td>0</td>\n",
       "      <td>0</td>\n",
       "      <td>0</td>\n",
       "      <td>0</td>\n",
       "      <td>0</td>\n",
       "      <td>0</td>\n",
       "      <td>0</td>\n",
       "      <td>0</td>\n",
       "      <td>...</td>\n",
       "      <td>0</td>\n",
       "      <td>0</td>\n",
       "      <td>0</td>\n",
       "      <td>0</td>\n",
       "      <td>0</td>\n",
       "      <td>0</td>\n",
       "      <td>0</td>\n",
       "      <td>0</td>\n",
       "      <td>0</td>\n",
       "      <td>0</td>\n",
       "    </tr>\n",
       "  </tbody>\n",
       "</table>\n",
       "<p>2399 rows × 1780 columns</p>\n",
       "</div>"
      ],
      "text/plain": [
       "      000  01  02  05  10  100  10x  11  12  13  ...  étudiants  été  \\\n",
       "0       0   0   0   0   0    0    0   0   0   0  ...          0    0   \n",
       "1       0   0   0   0   0    1    0   0   0   0  ...          0    0   \n",
       "2       0   0   0   0   0    0    0   0   0   0  ...          0    0   \n",
       "3       0   0   0   0   0    1    0   0   0   0  ...          0    0   \n",
       "4       0   0   0   0   0    0    0   0   0   0  ...          0    0   \n",
       "...   ...  ..  ..  ..  ..  ...  ...  ..  ..  ..  ...        ...  ...   \n",
       "2394    0   0   0   0   0    0    0   0   0   0  ...          0    0   \n",
       "2395    0   0   0   0   0    0    0   0   0   0  ...          0    0   \n",
       "2396    0   0   0   0   0    0    0   0   0   0  ...          0    0   \n",
       "2397    0   0   0   0   0    0    0   0   0   0  ...          0    0   \n",
       "2398    0   0   0   0   0    0    0   0   0   0  ...          0    0   \n",
       "\n",
       "      évaluation  évidemment  évident  éviter  évoluer  évolution  êtes  être  \n",
       "0              0           0        0       0        0          0     0     0  \n",
       "1              0           0        0       0        0          0     0     0  \n",
       "2              0           0        0       0        0          0     0     0  \n",
       "3              0           0        0       0        0          0     0     0  \n",
       "4              0           0        0       0        0          0     0     0  \n",
       "...          ...         ...      ...     ...      ...        ...   ...   ...  \n",
       "2394           0           0        0       0        0          0     0     0  \n",
       "2395           0           0        0       0        0          0     0     0  \n",
       "2396           0           0        0       0        0          0     0     0  \n",
       "2397           0           0        0       0        0          0     0     0  \n",
       "2398           0           0        0       0        0          0     0     0  \n",
       "\n",
       "[2399 rows x 1780 columns]"
      ]
     },
     "execution_count": 45,
     "metadata": {},
     "output_type": "execute_result"
    }
   ],
   "source": [
    "pd.DataFrame(text_tranform.toarray(), \n",
    "             columns= modele.get_feature_names_out())"
   ]
  },
  {
   "cell_type": "markdown",
   "id": "7bee1344-9e1d-483d-9cda-b6f07b740743",
   "metadata": {},
   "source": [
    "## Découverte de spacy"
   ]
  },
  {
   "cell_type": "code",
   "execution_count": 47,
   "id": "b2928e54-b4bd-4744-b486-6fb6cc8176e3",
   "metadata": {},
   "outputs": [],
   "source": [
    "#pip install spacy"
   ]
  },
  {
   "cell_type": "code",
   "execution_count": 49,
   "id": "baea5aed-2357-4c93-98e1-c10a92600b32",
   "metadata": {},
   "outputs": [],
   "source": [
    "#!python -m spacy download fr_core_news_md"
   ]
  },
  {
   "cell_type": "code",
   "execution_count": 50,
   "id": "c1a436b3-160a-40f1-856b-5f11d0909c58",
   "metadata": {},
   "outputs": [],
   "source": [
    "import spacy"
   ]
  },
  {
   "cell_type": "code",
   "execution_count": 51,
   "id": "9a141ba0-ebcc-40fd-a999-2c2ee722574f",
   "metadata": {},
   "outputs": [],
   "source": [
    "modele = spacy.load(\"fr_core_news_md\")"
   ]
  },
  {
   "cell_type": "code",
   "execution_count": 54,
   "id": "f1e04d86-ab73-49b4-82c9-bc4866637a07",
   "metadata": {},
   "outputs": [],
   "source": [
    "texte_transforme = modele(\"Ceci est un texte\")"
   ]
  },
  {
   "cell_type": "code",
   "execution_count": 55,
   "id": "49cc796b-dc1e-482b-9e46-89866cd011b1",
   "metadata": {},
   "outputs": [
    {
     "data": {
      "text/plain": [
       "spacy.tokens.doc.Doc"
      ]
     },
     "execution_count": 55,
     "metadata": {},
     "output_type": "execute_result"
    }
   ],
   "source": [
    "type(texte_transforme)"
   ]
  },
  {
   "cell_type": "code",
   "execution_count": 60,
   "id": "4b052f8d-aedf-435f-aec6-4080b8b52cb6",
   "metadata": {},
   "outputs": [],
   "source": [
    "mot = texte_transforme[1]"
   ]
  },
  {
   "cell_type": "code",
   "execution_count": 64,
   "id": "78dac245-fe2f-4bd5-bf3a-0858b04baedf",
   "metadata": {},
   "outputs": [
    {
     "name": "stdout",
     "output_type": "stream",
     "text": [
      "Ceci ceci PRON PRON nsubj Xxxx True True\n",
      "est être AUX AUX cop xxx True True\n",
      "un un DET DET det xx True True\n",
      "texte texte NOUN NOUN ROOT xxxx True False\n"
     ]
    }
   ],
   "source": [
    "for token in texte_transforme:\n",
    "    print(token.text, token.lemma_, token.pos_, token.tag_, token.dep_,\n",
    "            token.shape_, token.is_alpha, token.is_stop)"
   ]
  },
  {
   "cell_type": "code",
   "execution_count": 65,
   "id": "43482566-4bde-44e4-a4a5-aa21e2887279",
   "metadata": {},
   "outputs": [],
   "source": [
    "def filtrer_verbes(texte):\n",
    "    texte_transforme = modele(texte)\n",
    "    return [mot.text for mot in texte_transforme if mot.pos_ == \"NOUN\"]"
   ]
  },
  {
   "cell_type": "code",
   "execution_count": 66,
   "id": "04dd5685-528c-4b50-b4c3-c8c3a25f9c32",
   "metadata": {},
   "outputs": [
    {
     "data": {
      "text/plain": [
       "['texte']"
      ]
     },
     "execution_count": 66,
     "metadata": {},
     "output_type": "execute_result"
    }
   ],
   "source": [
    "filtrer_verbes(\"Ceci est un texte\")"
   ]
  },
  {
   "cell_type": "code",
   "execution_count": 67,
   "id": "add1f1e2-6c96-444d-88be-4b9e465fa79a",
   "metadata": {},
   "outputs": [
    {
     "data": {
      "text/plain": [
       "0       [outil, Open, Source, ℹ️Garak, recherche, fuit...\n",
       "1       [proceeds, baselessly, paragraphs, garbanzo, m...\n",
       "2                                     [𝘳𝘦𝘱𝘭𝘢𝘤𝘦, 𝘓𝘓𝘔, 𝘓𝘓𝘔]\n",
       "3       [groupes, blogs, LLM, vessies, lanternes, fois...\n",
       "4                          [constatations, LLM, rapports]\n",
       "                              ...                        \n",
       "2394           [caca, boîtes, soi, -, LLM, nuance, chose]\n",
       "2395    [might, But, m, blogs, repo, concert, tools, S...\n",
       "2396    [think, that’, B2B, transaction, value, But, n...\n",
       "2397    [wrote, -, level, guide, novel, https://allenp...\n",
       "2398                                [Pi, AI, bestie, LLM]\n",
       "Name: text, Length: 2399, dtype: object"
      ]
     },
     "execution_count": 67,
     "metadata": {},
     "output_type": "execute_result"
    }
   ],
   "source": [
    "df[\"text\"].apply(filtrer_verbes)"
   ]
  },
  {
   "cell_type": "code",
   "execution_count": 72,
   "id": "8862e48d-dbb0-444e-a9b9-ef8f0df55729",
   "metadata": {},
   "outputs": [],
   "source": [
    "texte = \"Vous finissez le semestre bientôt à Centrale Méditerrannée\""
   ]
  },
  {
   "cell_type": "code",
   "execution_count": 73,
   "id": "4211199b-7316-4ac5-bf45-d49a325d2c31",
   "metadata": {},
   "outputs": [],
   "source": [
    "txt_t = modele(texte)"
   ]
  },
  {
   "cell_type": "code",
   "execution_count": 74,
   "id": "e3dbedbb-2b13-454b-8d9e-3f9b8bd6d23c",
   "metadata": {},
   "outputs": [
    {
     "data": {
      "text/plain": [
       "(Centrale Méditerrannée,)"
      ]
     },
     "execution_count": 74,
     "metadata": {},
     "output_type": "execute_result"
    }
   ],
   "source": [
    "txt_t.ents"
   ]
  },
  {
   "cell_type": "code",
   "execution_count": 75,
   "id": "b36a0703-4d82-4fa7-ad43-18e66cfd808c",
   "metadata": {},
   "outputs": [
    {
     "data": {
      "text/plain": [
       "0       ((Garak), (Vulnerability, Scanner), (ℹ️Garak),...\n",
       "1       ((baselessly, speculating, as, he, did, for, p...\n",
       "2                                             ((Modest),)\n",
       "3                                 ((empoissonner), (IAG))\n",
       "4                                                      ()\n",
       "                              ...                        \n",
       "2394                        ((Elon), (Twitter), (Google))\n",
       "2395    ((Oreilly, books, and, trying, to, do, stuff),...\n",
       "2396                 ((I), (B2B, transaction, that, has))\n",
       "2397                                               ((I),)\n",
       "2398                       ((my, personal, AI), (#, LLM))\n",
       "Name: text, Length: 2399, dtype: object"
      ]
     },
     "execution_count": 75,
     "metadata": {},
     "output_type": "execute_result"
    }
   ],
   "source": [
    "df[\"text\"].apply(lambda x: modele(x).ents)"
   ]
  },
  {
   "cell_type": "markdown",
   "id": "ee5fb03d-7e6e-4693-bdaa-920163bc5188",
   "metadata": {},
   "source": [
    "## Utiliser Gliner pour du NER"
   ]
  },
  {
   "cell_type": "code",
   "execution_count": 77,
   "id": "07bb712c-1720-4a83-898e-18d2a499f2fe",
   "metadata": {},
   "outputs": [],
   "source": [
    "#pip install gliner"
   ]
  },
  {
   "cell_type": "code",
   "execution_count": null,
   "id": "03d851e1-4a54-48df-90a7-1040bf295b20",
   "metadata": {},
   "outputs": [],
   "source": [
    "model = GLiNER.from_pretrained(\"urchade/gliner_multi_pii-v1\")"
   ]
  },
  {
   "cell_type": "code",
   "execution_count": 7,
   "id": "ba2ee51c-8343-4d2d-96ec-3b58fa2da6ca",
   "metadata": {},
   "outputs": [
    {
     "data": {
      "text/plain": [
       "[{'start': 23,\n",
       "  'end': 43,\n",
       "  'text': 'rice and leeks salad',\n",
       "  'label': 'food',\n",
       "  'score': 0.9316188097000122}]"
      ]
     },
     "execution_count": 7,
     "metadata": {},
     "output_type": "execute_result"
    }
   ],
   "source": [
    "texte = \"During my lunch, I ate rice and leeks salad\"\n",
    "model.predict_entities(texte, [\"food\"])"
   ]
  },
  {
   "cell_type": "code",
   "execution_count": null,
   "id": "2a4b73e1-e935-4f65-b72e-ac7d9907facd",
   "metadata": {},
   "outputs": [],
   "source": [
    "#pip install -U gliner"
   ]
  },
  {
   "cell_type": "code",
   "execution_count": 13,
   "id": "51a1d3f5-75ce-4cd1-a744-07849717db38",
   "metadata": {},
   "outputs": [],
   "source": [
    "t = df[\"text\"][0:500].apply(lambda x : model.predict_entities(x, [\"personnes humaines\"]))"
   ]
  },
  {
   "cell_type": "markdown",
   "id": "af239a9d-c02a-406a-a384-6b5836ffc28b",
   "metadata": {},
   "source": [
    "## Analyse de sentiment"
   ]
  },
  {
   "cell_type": "code",
   "execution_count": 16,
   "id": "dee91dbb-0a13-4883-9761-c490d41b56d4",
   "metadata": {},
   "outputs": [
    {
     "data": {
      "application/vnd.jupyter.widget-view+json": {
       "model_id": "9c3840db0275447aacdf836f59c3803a",
       "version_major": 2,
       "version_minor": 0
      },
      "text/plain": [
       "config.json:   0%|          | 0.00/902 [00:00<?, ?B/s]"
      ]
     },
     "metadata": {},
     "output_type": "display_data"
    },
    {
     "data": {
      "application/vnd.jupyter.widget-view+json": {
       "model_id": "fdecb9d843b84bb29277f032aeaaecf7",
       "version_major": 2,
       "version_minor": 0
      },
      "text/plain": [
       "model.safetensors:   0%|          | 0.00/541M [00:00<?, ?B/s]"
      ]
     },
     "metadata": {},
     "output_type": "display_data"
    },
    {
     "data": {
      "application/vnd.jupyter.widget-view+json": {
       "model_id": "907fe1c1b2854a8f8b5562b1f6186bff",
       "version_major": 2,
       "version_minor": 0
      },
      "text/plain": [
       "tokenizer_config.json:   0%|          | 0.00/1.20k [00:00<?, ?B/s]"
      ]
     },
     "metadata": {},
     "output_type": "display_data"
    },
    {
     "data": {
      "application/vnd.jupyter.widget-view+json": {
       "model_id": "13d895f7592a4dc9931eccb2aaeef19f",
       "version_major": 2,
       "version_minor": 0
      },
      "text/plain": [
       "vocab.txt:   0%|          | 0.00/996k [00:00<?, ?B/s]"
      ]
     },
     "metadata": {},
     "output_type": "display_data"
    },
    {
     "data": {
      "application/vnd.jupyter.widget-view+json": {
       "model_id": "ac83fe92033347e885ed6ac7180748fb",
       "version_major": 2,
       "version_minor": 0
      },
      "text/plain": [
       "tokenizer.json:   0%|          | 0.00/2.92M [00:00<?, ?B/s]"
      ]
     },
     "metadata": {},
     "output_type": "display_data"
    },
    {
     "data": {
      "application/vnd.jupyter.widget-view+json": {
       "model_id": "9b27a679323344f893dffaa2155c98df",
       "version_major": 2,
       "version_minor": 0
      },
      "text/plain": [
       "special_tokens_map.json:   0%|          | 0.00/125 [00:00<?, ?B/s]"
      ]
     },
     "metadata": {},
     "output_type": "display_data"
    },
    {
     "name": "stderr",
     "output_type": "stream",
     "text": [
      "Device set to use mps:0\n"
     ]
    },
    {
     "name": "stdout",
     "output_type": "stream",
     "text": [
      "[{'label': 'Very Positive', 'score': 0.5922620892524719}]\n"
     ]
    }
   ],
   "source": [
    "from transformers import pipeline\n",
    "\n",
    "# Load the classification pipeline with the specified model\n",
    "pipe = pipeline(\"text-classification\", model=\"tabularisai/multilingual-sentiment-analysis\")\n",
    "\n",
    "# Classify a new sentence\n",
    "sentence = \"I love this product! It's amazing and works perfectly.\"\n",
    "result = pipe(sentence)\n",
    "\n",
    "# Print the result\n",
    "print(result)"
   ]
  },
  {
   "cell_type": "code",
   "execution_count": 25,
   "id": "1db86e06-47e4-49e2-8318-36e66070373f",
   "metadata": {},
   "outputs": [
    {
     "data": {
      "text/plain": [
       "Neutral          1150\n",
       "Very Negative     537\n",
       "Very Positive     286\n",
       "Positive          238\n",
       "Negative          188\n",
       "Name: text, dtype: int64"
      ]
     },
     "execution_count": 25,
     "metadata": {},
     "output_type": "execute_result"
    }
   ],
   "source": [
    "t = df[\"text\"].apply(lambda x : pipe(x)[0][\"label\"])\n",
    "t.value_counts()"
   ]
  },
  {
   "cell_type": "code",
   "execution_count": 26,
   "id": "ee58e10c-c2b6-4ea0-921c-016e30a66416",
   "metadata": {},
   "outputs": [],
   "source": [
    "df[\"sentiment\"] = t"
   ]
  },
  {
   "cell_type": "code",
   "execution_count": 32,
   "id": "3041a310-be07-47b7-bb41-696f7814ce56",
   "metadata": {},
   "outputs": [
    {
     "data": {
      "text/plain": [
       "['“If I had to speculate” proceeds to continue baselessly speculating as he did for paragraphs of complete garbanzo. I’m 100% convinced this is majority written or “parsed” through an LLM. There’s genuinely no way a functional human being with a basic capacity to check Wikipedia could write this.',\n",
       " 'Et je te parle même pas des groupes plus ou moins organisés qui remplissent le web de faux blogs pour empoissonner les LLM et faire passer des vessies pour des lanternes. Quand répéter 100 fois un mensonge en fait une \"vérité\" pour une IAG qui le propagera au grand public 😪.',\n",
       " '«\\u202fles constatations humaines\\u202f» : donc ils bluffent et si ça se trouve ils utilisent un LLM pour générer les rapports ?',\n",
       " 'Comment les IA transforment tout code en code open source | Intelligence artificielle | Le site de Korben\\n\\nhttps://korben.info/llm-decompilation-claude-code-hack-intelligence-artificielle.html\\n\\n',\n",
       " 'Je serais quand même un peu surpris que les nigauds qui ont entraîné leurs LLM sur du contenu volé aient des scrupules à respecter une robots.txt quand même 🤔',\n",
       " \"Eh oui. Le RGPD est littéralement inapplicable par les LLM en l'état (on ne sait techniquement pas garantir le droit de rectification ni celui de suppression)\",\n",
       " \"Précisément, du coup p'tet quelque chose à chercher du côté d'un outil type llm avec une base derrière pour recroiser automagiquement\",\n",
       " \"Ah, si c'est la valorisation il y a une énorme incomprehension : Elle est principalement du a xAI, Grok.\\nDepuis l'explosion d'OpenAI, et de sa valorisation, toutes les boites de LLM ont exploser coté valorisation, tout le monde voulant sa part du gateau.\\n\\nAucun rapport avec le nombre d'user sur X.\",\n",
       " \"J'ai créé l' #OEM ! L'observatoire qui analyse & anticipe les bouleversements de l' #emploi face à l' #IA : observatoire-emplois-menaces.com Que deviendront les #emplois intellectuels déjà #automatisables par #LLM et + encore par la future IA générale ?\",\n",
       " \"On dirait un vomi d'un LLM d'extrême droite. Saez, c'est fafGPT.\"]"
      ]
     },
     "execution_count": 32,
     "metadata": {},
     "output_type": "execute_result"
    }
   ],
   "source": [
    "list(df[df[\"sentiment\"] == \"Very Negative\"][\"text\"])[0:10]"
   ]
  },
  {
   "cell_type": "markdown",
   "id": "03eed78a-552c-491c-bc60-4bdeb10c95d7",
   "metadata": {},
   "source": [
    "## Interroger un service distant"
   ]
  },
  {
   "cell_type": "code",
   "execution_count": 35,
   "id": "42359758-6ec3-4e00-a0bd-a4390dc65069",
   "metadata": {},
   "outputs": [
    {
     "data": {
      "text/plain": [
       "{'model': 'llama3.2',\n",
       " 'created_at': '2025-03-25T13:13:35.583693252Z',\n",
       " 'response': 'NEGATIF.',\n",
       " 'done': True,\n",
       " 'done_reason': 'stop',\n",
       " 'context': [128006,\n",
       "  9125,\n",
       "  128007,\n",
       "  271,\n",
       "  38766,\n",
       "  1303,\n",
       "  33025,\n",
       "  2696,\n",
       "  25,\n",
       "  6790,\n",
       "  220,\n",
       "  2366,\n",
       "  18,\n",
       "  271,\n",
       "  128009,\n",
       "  128006,\n",
       "  882,\n",
       "  128007,\n",
       "  271,\n",
       "  14101,\n",
       "  54312,\n",
       "  1744,\n",
       "  3846,\n",
       "  69067,\n",
       "  1826,\n",
       "  20940,\n",
       "  333,\n",
       "  6033,\n",
       "  308,\n",
       "  19395,\n",
       "  50848,\n",
       "  627,\n",
       "  30854,\n",
       "  5320,\n",
       "  2249,\n",
       "  29121,\n",
       "  1133,\n",
       "  6316,\n",
       "  90509,\n",
       "  665,\n",
       "  27592,\n",
       "  964,\n",
       "  2843,\n",
       "  11,\n",
       "  85165,\n",
       "  835,\n",
       "  2843,\n",
       "  6033,\n",
       "  8014,\n",
       "  1406,\n",
       "  793,\n",
       "  627,\n",
       "  2356,\n",
       "  69067,\n",
       "  1826,\n",
       "  551,\n",
       "  14465,\n",
       "  841,\n",
       "  60946,\n",
       "  82,\n",
       "  55455,\n",
       "  8065,\n",
       "  452,\n",
       "  12852,\n",
       "  128009,\n",
       "  128006,\n",
       "  78191,\n",
       "  128007,\n",
       "  271,\n",
       "  98227,\n",
       "  835,\n",
       "  2843,\n",
       "  13],\n",
       " 'total_duration': 49503571,\n",
       " 'load_duration': 14623277,\n",
       " 'prompt_eval_count': 70,\n",
       " 'prompt_eval_duration': 6407895,\n",
       " 'eval_count': 5,\n",
       " 'eval_duration': 27451939}"
      ]
     },
     "execution_count": 35,
     "metadata": {},
     "output_type": "execute_result"
    }
   ],
   "source": [
    "import requests\n",
    "import json\n",
    "\n",
    "# Définir la prompt de classification\n",
    "prompt = \"\"\"Est-ce que ce texte est positif ou négatif.\n",
    "Je veux uniquement une réponse en POSITIF, NEGATIF ou NEUTRE.\n",
    "Le texte est : Je ne comprends rien au NLP\"\"\"\n",
    "\n",
    "# Envoi de la requête à Ollama\n",
    "response = requests.post(\n",
    "    'https://llm-tools-alpha.huma-num.fr/ES_hpEC1VnleR_8C52IbSxHF/api/generate',\n",
    "    json={\n",
    "        'model': 'llama3.2',\n",
    "        'prompt': prompt,\n",
    "        'stream': False  # stream=False pour avoir une réponse simple\n",
    "    }\n",
    ")\n",
    "\n",
    "# Traitement de la réponse\n",
    "result = response.json()\n",
    "result"
   ]
  },
  {
   "cell_type": "code",
   "execution_count": null,
   "id": "0b908880-972e-4435-a343-fcef240eecb6",
   "metadata": {},
   "outputs": [],
   "source": []
  }
 ],
 "metadata": {
  "kernelspec": {
   "display_name": "Python 3 (ipykernel)",
   "language": "python",
   "name": "python3"
  },
  "language_info": {
   "codemirror_mode": {
    "name": "ipython",
    "version": 3
   },
   "file_extension": ".py",
   "mimetype": "text/x-python",
   "name": "python",
   "nbconvert_exporter": "python",
   "pygments_lexer": "ipython3",
   "version": "3.11.7"
  }
 },
 "nbformat": 4,
 "nbformat_minor": 5
}
